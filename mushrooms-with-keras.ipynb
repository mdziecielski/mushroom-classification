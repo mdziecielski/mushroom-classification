{
 "cells": [
  {
   "cell_type": "markdown",
   "metadata": {},
   "source": [
    "# Classify mushrooms using Deep Learning"
   ]
  },
  {
   "cell_type": "markdown",
   "metadata": {},
   "source": [
    "My goal is to classify mushrooms into two groups: edible and deadly. I will explore the data, examine some well-known mushroom picking tips and build a deep learning model."
   ]
  },
  {
   "cell_type": "markdown",
   "metadata": {},
   "source": [
    "## Table of contents\n",
    "1. [Introduction](#section-one)\n",
    "2. [Exploring](#section-two)\n",
    "3. [Preprocessing](#section-three)\n",
    "4. [Building a model](#section-four)\n",
    "5. [Validation](#section-five)\n",
    "6. [Final result](#section-six)"
   ]
  },
  {
   "cell_type": "markdown",
   "metadata": {},
   "source": [
    "<a id=\"section-one\"></a>\n",
    "# 1. Introduction"
   ]
  },
  {
   "cell_type": "markdown",
   "metadata": {},
   "source": [
    "## Libraries"
   ]
  },
  {
   "cell_type": "code",
   "execution_count": 4,
   "metadata": {
    "_cell_guid": "b1076dfc-b9ad-4769-8c92-a6c4dae69d19",
    "_uuid": "8f2839f25d086af736a60e9eeb907d3b93b6e0e5"
   },
   "outputs": [],
   "source": [
    "import numpy as np \n",
    "import pandas as pd\n",
    "import seaborn as sns\n",
    "import matplotlib.pyplot as plt\n",
    "%matplotlib inline"
   ]
  },
  {
   "cell_type": "markdown",
   "metadata": {},
   "source": [
    "## Data explanation\n",
    "* **class**: edible=e,poisonous=p\n",
    "* **cap-shape**: bell=b,conical=c,convex=x,flat=f, knobbed=k,sunken=s\n",
    "* **cap-surface**: fibrous=f,grooves=g,scaly=y,smooth=s\n",
    "* **cap-color**: brown=n,buff=b,cinnamon=c,gray=g,green=r,pink=p,purple=u,red=e,white=w,yellow=y\n",
    "* **bruises**: bruises=t,no=f\n",
    "* **odor**: almond=a,anise=l,creosote=c,fishy=y,foul=f,musty=m,none=n,pungent=p,spicy=s\n",
    "* **gill-attachment**: attached=a,descending=d,free=f,notched=n\n",
    "* **gill-spacing**: close=c,crowded=w,distant=d\n",
    "* **gill-size**: broad=b,narrow=n\n",
    "* **gill-color**: black=k,brown=n,buff=b,chocolate=h,gray=g,green=r,orange=o,pink=p,purple=u,red=e,white=w,yellow=y\n",
    "* **stalk-shape**: enlarging=e,tapering=t\n",
    "* **stalk-root**: bulbous=b,club=c,cup=u,equal=e,rhizomorphs=z,rooted=r,missing=?\n",
    "* **stalk-surface-above-ring**: fibrous=f,scaly=y,silky=k,smooth=s\n",
    "* **stalk-surface-below-ring**: fibrous=f,scaly=y,silky=k,smooth=s\n",
    "* **stalk-color-above-ring**: brown=n,buff=b,cinnamon=c,gray=g,orange=o,pink=p,red=e,white=w,yellow=y\n",
    "* **stalk-color-below-ring**: brown=n,buff=b,cinnamon=c,gray=g,orange=o,pink=p,red=e,white=w,yellow=y\n",
    "* **veil-type**: partial=p,universal=u\n",
    "* **veil-color**: brown=n,orange=o,white=w,yellow=y\n",
    "* **ring-number**: none=n,one=o,two=t\n",
    "* **ring-type**: cobwebby=c,evanescent=e,flaring=f,large=l,none=n,pendant=p,sheathing=s,zone=z\n",
    "* **spore-print-color**: black=k,brown=n,buff=b,chocolate=h,green=r,orange=o,purple=u,white=w,yellow=y\n",
    "* **population**: abundant=a,clustered=c,numerous=n,scattered=s,several=v,solitary=y\n",
    "* **habitat**: grasses=g,leaves=l,meadows=m,paths=p,urban=u,waste=w,woods=d"
   ]
  },
  {
   "cell_type": "code",
   "execution_count": 5,
   "metadata": {},
   "outputs": [
    {
     "name": "stdout",
     "output_type": "stream",
     "text": [
      "There are 8124 mushroom descriptions, each with 23 features\n"
     ]
    }
   ],
   "source": [
    "mushrooms = pd.read_csv('mushrooms.csv')\n",
    "print('There are {} mushroom descriptions, each with {} features'.format(len(mushrooms), len(mushrooms.columns)))"
   ]
  },
  {
   "cell_type": "markdown",
   "metadata": {},
   "source": [
    "<a id=\"section-two\"></a>\n",
    "# 2. Exploring the data"
   ]
  },
  {
   "cell_type": "code",
   "execution_count": 6,
   "metadata": {},
   "outputs": [
    {
     "name": "stdout",
     "output_type": "stream",
     "text": [
      "<class 'pandas.core.frame.DataFrame'>\n",
      "RangeIndex: 8124 entries, 0 to 8123\n",
      "Data columns (total 23 columns):\n",
      " #   Column                    Non-Null Count  Dtype \n",
      "---  ------                    --------------  ----- \n",
      " 0   class                     8124 non-null   object\n",
      " 1   cap-shape                 8124 non-null   object\n",
      " 2   cap-surface               8124 non-null   object\n",
      " 3   cap-color                 8124 non-null   object\n",
      " 4   bruises                   8124 non-null   object\n",
      " 5   odor                      8124 non-null   object\n",
      " 6   gill-attachment           8124 non-null   object\n",
      " 7   gill-spacing              8124 non-null   object\n",
      " 8   gill-size                 8124 non-null   object\n",
      " 9   gill-color                8124 non-null   object\n",
      " 10  stalk-shape               8124 non-null   object\n",
      " 11  stalk-root                8124 non-null   object\n",
      " 12  stalk-surface-above-ring  8124 non-null   object\n",
      " 13  stalk-surface-below-ring  8124 non-null   object\n",
      " 14  stalk-color-above-ring    8124 non-null   object\n",
      " 15  stalk-color-below-ring    8124 non-null   object\n",
      " 16  veil-type                 8124 non-null   object\n",
      " 17  veil-color                8124 non-null   object\n",
      " 18  ring-number               8124 non-null   object\n",
      " 19  ring-type                 8124 non-null   object\n",
      " 20  spore-print-color         8124 non-null   object\n",
      " 21  population                8124 non-null   object\n",
      " 22  habitat                   8124 non-null   object\n",
      "dtypes: object(23)\n",
      "memory usage: 1.4+ MB\n"
     ]
    }
   ],
   "source": [
    "mushrooms.info()"
   ]
  },
  {
   "cell_type": "markdown",
   "metadata": {},
   "source": [
    "There are no null values, which is great news for me"
   ]
  },
  {
   "cell_type": "code",
   "execution_count": 7,
   "metadata": {},
   "outputs": [
    {
     "data": {
      "text/html": [
       "<div>\n",
       "<style scoped>\n",
       "    .dataframe tbody tr th:only-of-type {\n",
       "        vertical-align: middle;\n",
       "    }\n",
       "\n",
       "    .dataframe tbody tr th {\n",
       "        vertical-align: top;\n",
       "    }\n",
       "\n",
       "    .dataframe thead th {\n",
       "        text-align: right;\n",
       "    }\n",
       "</style>\n",
       "<table border=\"1\" class=\"dataframe\">\n",
       "  <thead>\n",
       "    <tr style=\"text-align: right;\">\n",
       "      <th></th>\n",
       "      <th>class</th>\n",
       "      <th>cap-shape</th>\n",
       "      <th>cap-surface</th>\n",
       "      <th>cap-color</th>\n",
       "      <th>bruises</th>\n",
       "      <th>odor</th>\n",
       "      <th>gill-attachment</th>\n",
       "      <th>gill-spacing</th>\n",
       "      <th>gill-size</th>\n",
       "      <th>gill-color</th>\n",
       "      <th>...</th>\n",
       "      <th>stalk-surface-below-ring</th>\n",
       "      <th>stalk-color-above-ring</th>\n",
       "      <th>stalk-color-below-ring</th>\n",
       "      <th>veil-type</th>\n",
       "      <th>veil-color</th>\n",
       "      <th>ring-number</th>\n",
       "      <th>ring-type</th>\n",
       "      <th>spore-print-color</th>\n",
       "      <th>population</th>\n",
       "      <th>habitat</th>\n",
       "    </tr>\n",
       "  </thead>\n",
       "  <tbody>\n",
       "    <tr>\n",
       "      <th>count</th>\n",
       "      <td>8124</td>\n",
       "      <td>8124</td>\n",
       "      <td>8124</td>\n",
       "      <td>8124</td>\n",
       "      <td>8124</td>\n",
       "      <td>8124</td>\n",
       "      <td>8124</td>\n",
       "      <td>8124</td>\n",
       "      <td>8124</td>\n",
       "      <td>8124</td>\n",
       "      <td>...</td>\n",
       "      <td>8124</td>\n",
       "      <td>8124</td>\n",
       "      <td>8124</td>\n",
       "      <td>8124</td>\n",
       "      <td>8124</td>\n",
       "      <td>8124</td>\n",
       "      <td>8124</td>\n",
       "      <td>8124</td>\n",
       "      <td>8124</td>\n",
       "      <td>8124</td>\n",
       "    </tr>\n",
       "    <tr>\n",
       "      <th>unique</th>\n",
       "      <td>2</td>\n",
       "      <td>6</td>\n",
       "      <td>4</td>\n",
       "      <td>10</td>\n",
       "      <td>2</td>\n",
       "      <td>9</td>\n",
       "      <td>2</td>\n",
       "      <td>2</td>\n",
       "      <td>2</td>\n",
       "      <td>12</td>\n",
       "      <td>...</td>\n",
       "      <td>4</td>\n",
       "      <td>9</td>\n",
       "      <td>9</td>\n",
       "      <td>1</td>\n",
       "      <td>4</td>\n",
       "      <td>3</td>\n",
       "      <td>5</td>\n",
       "      <td>9</td>\n",
       "      <td>6</td>\n",
       "      <td>7</td>\n",
       "    </tr>\n",
       "    <tr>\n",
       "      <th>top</th>\n",
       "      <td>e</td>\n",
       "      <td>x</td>\n",
       "      <td>y</td>\n",
       "      <td>n</td>\n",
       "      <td>f</td>\n",
       "      <td>n</td>\n",
       "      <td>f</td>\n",
       "      <td>c</td>\n",
       "      <td>b</td>\n",
       "      <td>b</td>\n",
       "      <td>...</td>\n",
       "      <td>s</td>\n",
       "      <td>w</td>\n",
       "      <td>w</td>\n",
       "      <td>p</td>\n",
       "      <td>w</td>\n",
       "      <td>o</td>\n",
       "      <td>p</td>\n",
       "      <td>w</td>\n",
       "      <td>v</td>\n",
       "      <td>d</td>\n",
       "    </tr>\n",
       "    <tr>\n",
       "      <th>freq</th>\n",
       "      <td>4208</td>\n",
       "      <td>3656</td>\n",
       "      <td>3244</td>\n",
       "      <td>2284</td>\n",
       "      <td>4748</td>\n",
       "      <td>3528</td>\n",
       "      <td>7914</td>\n",
       "      <td>6812</td>\n",
       "      <td>5612</td>\n",
       "      <td>1728</td>\n",
       "      <td>...</td>\n",
       "      <td>4936</td>\n",
       "      <td>4464</td>\n",
       "      <td>4384</td>\n",
       "      <td>8124</td>\n",
       "      <td>7924</td>\n",
       "      <td>7488</td>\n",
       "      <td>3968</td>\n",
       "      <td>2388</td>\n",
       "      <td>4040</td>\n",
       "      <td>3148</td>\n",
       "    </tr>\n",
       "  </tbody>\n",
       "</table>\n",
       "<p>4 rows × 23 columns</p>\n",
       "</div>"
      ],
      "text/plain": [
       "       class cap-shape cap-surface cap-color bruises  odor gill-attachment  \\\n",
       "count   8124      8124        8124      8124    8124  8124            8124   \n",
       "unique     2         6           4        10       2     9               2   \n",
       "top        e         x           y         n       f     n               f   \n",
       "freq    4208      3656        3244      2284    4748  3528            7914   \n",
       "\n",
       "       gill-spacing gill-size gill-color  ... stalk-surface-below-ring  \\\n",
       "count          8124      8124       8124  ...                     8124   \n",
       "unique            2         2         12  ...                        4   \n",
       "top               c         b          b  ...                        s   \n",
       "freq           6812      5612       1728  ...                     4936   \n",
       "\n",
       "       stalk-color-above-ring stalk-color-below-ring veil-type veil-color  \\\n",
       "count                    8124                   8124      8124       8124   \n",
       "unique                      9                      9         1          4   \n",
       "top                         w                      w         p          w   \n",
       "freq                     4464                   4384      8124       7924   \n",
       "\n",
       "       ring-number ring-type spore-print-color population habitat  \n",
       "count         8124      8124              8124       8124    8124  \n",
       "unique           3         5                 9          6       7  \n",
       "top              o         p                 w          v       d  \n",
       "freq          7488      3968              2388       4040    3148  \n",
       "\n",
       "[4 rows x 23 columns]"
      ]
     },
     "execution_count": 7,
     "metadata": {},
     "output_type": "execute_result"
    }
   ],
   "source": [
    "mushrooms.describe()"
   ]
  },
  {
   "cell_type": "markdown",
   "metadata": {},
   "source": [
    "All values are categorical"
   ]
  },
  {
   "cell_type": "markdown",
   "metadata": {},
   "source": [
    "For plot readability I'm going to map a couple of features to full names."
   ]
  },
  {
   "cell_type": "code",
   "execution_count": 8,
   "metadata": {},
   "outputs": [],
   "source": [
    "colors_dict = {'n': 'brown', 'b': 'buff', 'c': 'cinnamon', 'g': 'gray',\n",
    "               'r': 'green', 'p': 'pink', 'u': 'purple', 'e': 'red', \n",
    "               'w': 'white', 'y': 'yellow', 'k': 'black', 'h': 'chocolate', \n",
    "               'o': 'orange', }\n",
    "\n",
    "odor_dict = {'a': 'almond', 'l': 'anise', 'c': 'creosote', 'y': 'fishy', \n",
    "             'f': 'foul', 'm': 'musty', 'n': 'none', 'p': 'pungent', \n",
    "             's': 'spicy'}\n",
    "\n",
    "population_dict = {'a': 'abundant', 'c': 'clustered', 'n': 'numerous', 's': 'scattered',\n",
    "                   'v': 'several', 'y': 'solitary'}\n",
    "\n",
    "habitat_dict = {'g': 'grasses', 'l': 'leaves', 'm': 'meadows', 'p': 'paths', \n",
    "                'u': 'urban', 'w': 'waste', 'd': 'woods'}\n",
    "\n",
    "\n",
    "# Map colors\n",
    "for feature_name in ['cap-color', 'gill-color', 'stalk-color-above-ring', 'stalk-color-below-ring', 'spore-print-color']:\n",
    "    mushrooms[feature_name] = mushrooms[feature_name].map(colors_dict)\n",
    "    \n",
    "# Map smells\n",
    "mushrooms['odor'] = mushrooms['odor'].map(odor_dict)\n",
    "\n",
    "# Map population\n",
    "mushrooms['population'] = mushrooms['population'].map(population_dict)\n",
    "\n",
    "# Map habitat\n",
    "mushrooms['habitat'] = mushrooms['habitat'].map(habitat_dict)\n",
    "\n",
    "# Map class\n",
    "mushrooms['class'] = mushrooms['class'].map({'e': 1., 'p': 0.})\n",
    "mushrooms = mushrooms.rename({'class': 'edible'}, axis='columns')"
   ]
  },
  {
   "cell_type": "code",
   "execution_count": 9,
   "metadata": {},
   "outputs": [
    {
     "data": {
      "text/html": [
       "<div>\n",
       "<style scoped>\n",
       "    .dataframe tbody tr th:only-of-type {\n",
       "        vertical-align: middle;\n",
       "    }\n",
       "\n",
       "    .dataframe tbody tr th {\n",
       "        vertical-align: top;\n",
       "    }\n",
       "\n",
       "    .dataframe thead th {\n",
       "        text-align: right;\n",
       "    }\n",
       "</style>\n",
       "<table border=\"1\" class=\"dataframe\">\n",
       "  <thead>\n",
       "    <tr style=\"text-align: right;\">\n",
       "      <th></th>\n",
       "      <th>edible</th>\n",
       "      <th>cap-shape</th>\n",
       "      <th>cap-surface</th>\n",
       "      <th>cap-color</th>\n",
       "      <th>bruises</th>\n",
       "      <th>odor</th>\n",
       "      <th>gill-attachment</th>\n",
       "      <th>gill-spacing</th>\n",
       "      <th>gill-size</th>\n",
       "      <th>gill-color</th>\n",
       "      <th>...</th>\n",
       "      <th>stalk-surface-below-ring</th>\n",
       "      <th>stalk-color-above-ring</th>\n",
       "      <th>stalk-color-below-ring</th>\n",
       "      <th>veil-type</th>\n",
       "      <th>veil-color</th>\n",
       "      <th>ring-number</th>\n",
       "      <th>ring-type</th>\n",
       "      <th>spore-print-color</th>\n",
       "      <th>population</th>\n",
       "      <th>habitat</th>\n",
       "    </tr>\n",
       "  </thead>\n",
       "  <tbody>\n",
       "    <tr>\n",
       "      <th>0</th>\n",
       "      <td>0.0</td>\n",
       "      <td>x</td>\n",
       "      <td>s</td>\n",
       "      <td>brown</td>\n",
       "      <td>t</td>\n",
       "      <td>pungent</td>\n",
       "      <td>f</td>\n",
       "      <td>c</td>\n",
       "      <td>n</td>\n",
       "      <td>black</td>\n",
       "      <td>...</td>\n",
       "      <td>s</td>\n",
       "      <td>white</td>\n",
       "      <td>white</td>\n",
       "      <td>p</td>\n",
       "      <td>w</td>\n",
       "      <td>o</td>\n",
       "      <td>p</td>\n",
       "      <td>black</td>\n",
       "      <td>scattered</td>\n",
       "      <td>urban</td>\n",
       "    </tr>\n",
       "    <tr>\n",
       "      <th>1</th>\n",
       "      <td>1.0</td>\n",
       "      <td>x</td>\n",
       "      <td>s</td>\n",
       "      <td>yellow</td>\n",
       "      <td>t</td>\n",
       "      <td>almond</td>\n",
       "      <td>f</td>\n",
       "      <td>c</td>\n",
       "      <td>b</td>\n",
       "      <td>black</td>\n",
       "      <td>...</td>\n",
       "      <td>s</td>\n",
       "      <td>white</td>\n",
       "      <td>white</td>\n",
       "      <td>p</td>\n",
       "      <td>w</td>\n",
       "      <td>o</td>\n",
       "      <td>p</td>\n",
       "      <td>brown</td>\n",
       "      <td>numerous</td>\n",
       "      <td>grasses</td>\n",
       "    </tr>\n",
       "    <tr>\n",
       "      <th>2</th>\n",
       "      <td>1.0</td>\n",
       "      <td>b</td>\n",
       "      <td>s</td>\n",
       "      <td>white</td>\n",
       "      <td>t</td>\n",
       "      <td>anise</td>\n",
       "      <td>f</td>\n",
       "      <td>c</td>\n",
       "      <td>b</td>\n",
       "      <td>brown</td>\n",
       "      <td>...</td>\n",
       "      <td>s</td>\n",
       "      <td>white</td>\n",
       "      <td>white</td>\n",
       "      <td>p</td>\n",
       "      <td>w</td>\n",
       "      <td>o</td>\n",
       "      <td>p</td>\n",
       "      <td>brown</td>\n",
       "      <td>numerous</td>\n",
       "      <td>meadows</td>\n",
       "    </tr>\n",
       "    <tr>\n",
       "      <th>3</th>\n",
       "      <td>0.0</td>\n",
       "      <td>x</td>\n",
       "      <td>y</td>\n",
       "      <td>white</td>\n",
       "      <td>t</td>\n",
       "      <td>pungent</td>\n",
       "      <td>f</td>\n",
       "      <td>c</td>\n",
       "      <td>n</td>\n",
       "      <td>brown</td>\n",
       "      <td>...</td>\n",
       "      <td>s</td>\n",
       "      <td>white</td>\n",
       "      <td>white</td>\n",
       "      <td>p</td>\n",
       "      <td>w</td>\n",
       "      <td>o</td>\n",
       "      <td>p</td>\n",
       "      <td>black</td>\n",
       "      <td>scattered</td>\n",
       "      <td>urban</td>\n",
       "    </tr>\n",
       "    <tr>\n",
       "      <th>4</th>\n",
       "      <td>1.0</td>\n",
       "      <td>x</td>\n",
       "      <td>s</td>\n",
       "      <td>gray</td>\n",
       "      <td>f</td>\n",
       "      <td>none</td>\n",
       "      <td>f</td>\n",
       "      <td>w</td>\n",
       "      <td>b</td>\n",
       "      <td>black</td>\n",
       "      <td>...</td>\n",
       "      <td>s</td>\n",
       "      <td>white</td>\n",
       "      <td>white</td>\n",
       "      <td>p</td>\n",
       "      <td>w</td>\n",
       "      <td>o</td>\n",
       "      <td>e</td>\n",
       "      <td>brown</td>\n",
       "      <td>abundant</td>\n",
       "      <td>grasses</td>\n",
       "    </tr>\n",
       "  </tbody>\n",
       "</table>\n",
       "<p>5 rows × 23 columns</p>\n",
       "</div>"
      ],
      "text/plain": [
       "   edible cap-shape cap-surface cap-color bruises     odor gill-attachment  \\\n",
       "0     0.0         x           s     brown       t  pungent               f   \n",
       "1     1.0         x           s    yellow       t   almond               f   \n",
       "2     1.0         b           s     white       t    anise               f   \n",
       "3     0.0         x           y     white       t  pungent               f   \n",
       "4     1.0         x           s      gray       f     none               f   \n",
       "\n",
       "  gill-spacing gill-size gill-color  ... stalk-surface-below-ring  \\\n",
       "0            c         n      black  ...                        s   \n",
       "1            c         b      black  ...                        s   \n",
       "2            c         b      brown  ...                        s   \n",
       "3            c         n      brown  ...                        s   \n",
       "4            w         b      black  ...                        s   \n",
       "\n",
       "  stalk-color-above-ring stalk-color-below-ring veil-type veil-color  \\\n",
       "0                  white                  white         p          w   \n",
       "1                  white                  white         p          w   \n",
       "2                  white                  white         p          w   \n",
       "3                  white                  white         p          w   \n",
       "4                  white                  white         p          w   \n",
       "\n",
       "  ring-number ring-type spore-print-color population  habitat  \n",
       "0           o         p             black  scattered    urban  \n",
       "1           o         p             brown   numerous  grasses  \n",
       "2           o         p             brown   numerous  meadows  \n",
       "3           o         p             black  scattered    urban  \n",
       "4           o         e             brown   abundant  grasses  \n",
       "\n",
       "[5 rows x 23 columns]"
      ]
     },
     "execution_count": 9,
     "metadata": {},
     "output_type": "execute_result"
    }
   ],
   "source": [
    "mushrooms.head()"
   ]
  },
  {
   "cell_type": "code",
   "execution_count": 10,
   "metadata": {},
   "outputs": [
    {
     "data": {
      "image/png": "[encoded data removed]",
      "text/plain": [
       "<Figure size 432x288 with 1 Axes>"
      ]
     },
     "metadata": {
      "needs_background": "light"
     },
     "output_type": "display_data"
    }
   ],
   "source": [
    "sns.countplot(x='edible', data=mushrooms);\n",
    "plt.title('How many edible/poisonous?', fontsize=20);"
   ]
  },
  {
   "cell_type": "markdown",
   "metadata": {},
   "source": [
    "It is explicity stated in the dataset description that there is no simple rule for determining the edibility of a mushroom. However, there a couple ground rules that can decrease the probability of picking poisonous mushrooms. \n",
    "\n",
    "According to these articles: [How to Tell the Difference Between Poisonous and Edible Mushrooms](https://www.wildfooduk.com/articles/how-to-tell-the-difference-between-poisonous-and-edible-mushrooms/), [How to Identify Poisonous Mushrooms](https://sciencing.com/identify-poisonous-mushrooms-2057768.html) mushrooms with following features shouldn't be picked: \n",
    "* white gills,\n",
    "* a skirt or ring on the stem,\n",
    "* bulbous or sack like base called volva,\n",
    "* red color on the cap or stem,\n",
    "* unpleasant smell,\n",
    "* white spore print color.\n",
    "\n",
    "Additionaly I'd like to analyse 'population' and 'habitat' features.\n",
    "    \n",
    "Let's explore those rules."
   ]
  },
  {
   "cell_type": "markdown",
   "metadata": {},
   "source": [
    "## White gills\n",
    "<img src=\"https://nature.mdc.mo.gov/sites/default/files/media/images/2013/05/meadow_mushroom_05-01-13.jpg\" align = \"left\" width=\"400px\">"
   ]
  },
  {
   "cell_type": "code",
   "execution_count": 11,
   "metadata": {},
   "outputs": [
    {
     "data": {
      "text/html": [
       "<div>\n",
       "<style scoped>\n",
       "    .dataframe tbody tr th:only-of-type {\n",
       "        vertical-align: middle;\n",
       "    }\n",
       "\n",
       "    .dataframe tbody tr th {\n",
       "        vertical-align: top;\n",
       "    }\n",
       "\n",
       "    .dataframe thead th {\n",
       "        text-align: right;\n",
       "    }\n",
       "</style>\n",
       "<table border=\"1\" class=\"dataframe\">\n",
       "  <thead>\n",
       "    <tr style=\"text-align: right;\">\n",
       "      <th>edible</th>\n",
       "      <th>0.0</th>\n",
       "      <th>1.0</th>\n",
       "    </tr>\n",
       "    <tr>\n",
       "      <th>gill-color</th>\n",
       "      <th></th>\n",
       "      <th></th>\n",
       "    </tr>\n",
       "  </thead>\n",
       "  <tbody>\n",
       "    <tr>\n",
       "      <th>black</th>\n",
       "      <td>64</td>\n",
       "      <td>344</td>\n",
       "    </tr>\n",
       "    <tr>\n",
       "      <th>brown</th>\n",
       "      <td>112</td>\n",
       "      <td>936</td>\n",
       "    </tr>\n",
       "    <tr>\n",
       "      <th>buff</th>\n",
       "      <td>1728</td>\n",
       "      <td>0</td>\n",
       "    </tr>\n",
       "    <tr>\n",
       "      <th>chocolate</th>\n",
       "      <td>528</td>\n",
       "      <td>204</td>\n",
       "    </tr>\n",
       "    <tr>\n",
       "      <th>gray</th>\n",
       "      <td>504</td>\n",
       "      <td>248</td>\n",
       "    </tr>\n",
       "    <tr>\n",
       "      <th>green</th>\n",
       "      <td>24</td>\n",
       "      <td>0</td>\n",
       "    </tr>\n",
       "    <tr>\n",
       "      <th>orange</th>\n",
       "      <td>0</td>\n",
       "      <td>64</td>\n",
       "    </tr>\n",
       "    <tr>\n",
       "      <th>pink</th>\n",
       "      <td>640</td>\n",
       "      <td>852</td>\n",
       "    </tr>\n",
       "    <tr>\n",
       "      <th>purple</th>\n",
       "      <td>48</td>\n",
       "      <td>444</td>\n",
       "    </tr>\n",
       "    <tr>\n",
       "      <th>red</th>\n",
       "      <td>0</td>\n",
       "      <td>96</td>\n",
       "    </tr>\n",
       "    <tr>\n",
       "      <th>white</th>\n",
       "      <td>246</td>\n",
       "      <td>956</td>\n",
       "    </tr>\n",
       "    <tr>\n",
       "      <th>yellow</th>\n",
       "      <td>22</td>\n",
       "      <td>64</td>\n",
       "    </tr>\n",
       "  </tbody>\n",
       "</table>\n",
       "</div>"
      ],
      "text/plain": [
       "edible       0.0  1.0\n",
       "gill-color           \n",
       "black         64  344\n",
       "brown        112  936\n",
       "buff        1728    0\n",
       "chocolate    528  204\n",
       "gray         504  248\n",
       "green         24    0\n",
       "orange         0   64\n",
       "pink         640  852\n",
       "purple        48  444\n",
       "red            0   96\n",
       "white        246  956\n",
       "yellow        22   64"
      ]
     },
     "execution_count": 11,
     "metadata": {},
     "output_type": "execute_result"
    }
   ],
   "source": [
    "pd.crosstab(mushrooms['gill-color'], mushrooms['edible'])"
   ]
  },
  {
   "cell_type": "code",
   "execution_count": 12,
   "metadata": {},
   "outputs": [
    {
     "data": {
      "image/png": "[encoded data removed]",
      "text/plain": [
       "<Figure size 432x288 with 1 Axes>"
      ]
     },
     "metadata": {
      "needs_background": "light"
     },
     "output_type": "display_data"
    }
   ],
   "source": [
    "sns.countplot(x='edible', data=mushrooms[mushrooms['gill-color'] == 'white']);\n",
    "plt.title('Are mushrooms with white gills edible or not?');"
   ]
  },
  {
   "cell_type": "code",
   "execution_count": 13,
   "metadata": {},
   "outputs": [
    {
     "data": {
      "image/png": "[encoded data removed]",
      "text/plain": [
       "<Figure size 1080x360 with 1 Axes>"
      ]
     },
     "metadata": {
      "needs_background": "light"
     },
     "output_type": "display_data"
    }
   ],
   "source": [
    "plt.figure(figsize=(15, 5))\n",
    "sns.countplot(x='gill-color', data=mushrooms, hue='edible');\n",
    "plt.title('Edibility based on gill color', fontsize=20);"
   ]
  },
  {
   "cell_type": "markdown",
   "metadata": {},
   "source": [
    "White gills rule are not a good indicator for poisonous mushrooms in this dataset; most of mushrooms with this feature are actually edible. However, all mushrooms with either buff or green gills are labeled as poisonous. All orange and red are edible."
   ]
  },
  {
   "cell_type": "markdown",
   "metadata": {},
   "source": [
    "## Skirt/ring on the stem\n",
    "<img src=\"https://www.backyardnature.net/n/09/091018mw.jpg\" align = \"left\" width=\"400px\">\n"
   ]
  },
  {
   "cell_type": "code",
   "execution_count": 14,
   "metadata": {},
   "outputs": [
    {
     "data": {
      "image/png": "[encoded data removed]",
      "text/plain": [
       "<Figure size 1224x720 with 4 Axes>"
      ]
     },
     "metadata": {
      "needs_background": "light"
     },
     "output_type": "display_data"
    }
   ],
   "source": [
    "plt.figure(figsize=(17, 10))\n",
    "\n",
    "plt.subplot(2, 2, 1)\n",
    "sns.countplot(x='edible', data=mushrooms[mushrooms['ring-number'] == 'o']);\n",
    "plt.title('How many mushrooms with a single ring are edible or not?');\n",
    "\n",
    "plt.subplot(2, 2, 2)\n",
    "sns.countplot(x='edible', data=mushrooms[mushrooms['ring-number'] == 't']);\n",
    "plt.title('How many mushrooms with two rings are edible or not?');\n",
    "\n",
    "plt.subplot(2, 2, 3)\n",
    "sns.countplot(x='edible', data=mushrooms[mushrooms['ring-number'] == 'n']);\n",
    "plt.title('How many mushrooms with no ring are edible or not?');\n",
    "\n",
    "plt.subplot(2, 2, 4)\n",
    "sns.countplot(x='edible', data=mushrooms[mushrooms['ring-number'] != 'n']);\n",
    "plt.title('How many mushrooms with a single or double ring are edible or not?');"
   ]
  },
  {
   "cell_type": "markdown",
   "metadata": {},
   "source": [
    "In general ring presence doesn't say much about the edibility of a mushroom. All mushrooms without a ring are poisonous, however there are only 35-36 of them in the dataset. Majority of double-ringed mushrooms are edible."
   ]
  },
  {
   "cell_type": "markdown",
   "metadata": {},
   "source": [
    "## Stem base\n",
    "<img src=\"https://www.mushroom.world/data/fungi/Amanitaporphyria3.JPG\" align = \"left\" width=\"400px\">"
   ]
  },
  {
   "cell_type": "code",
   "execution_count": 15,
   "metadata": {},
   "outputs": [
    {
     "data": {
      "text/html": [
       "<div>\n",
       "<style scoped>\n",
       "    .dataframe tbody tr th:only-of-type {\n",
       "        vertical-align: middle;\n",
       "    }\n",
       "\n",
       "    .dataframe tbody tr th {\n",
       "        vertical-align: top;\n",
       "    }\n",
       "\n",
       "    .dataframe thead th {\n",
       "        text-align: right;\n",
       "    }\n",
       "</style>\n",
       "<table border=\"1\" class=\"dataframe\">\n",
       "  <thead>\n",
       "    <tr style=\"text-align: right;\">\n",
       "      <th>edible</th>\n",
       "      <th>0.0</th>\n",
       "      <th>1.0</th>\n",
       "    </tr>\n",
       "    <tr>\n",
       "      <th>stalk-root</th>\n",
       "      <th></th>\n",
       "      <th></th>\n",
       "    </tr>\n",
       "  </thead>\n",
       "  <tbody>\n",
       "    <tr>\n",
       "      <th>?</th>\n",
       "      <td>1760</td>\n",
       "      <td>720</td>\n",
       "    </tr>\n",
       "    <tr>\n",
       "      <th>b</th>\n",
       "      <td>1856</td>\n",
       "      <td>1920</td>\n",
       "    </tr>\n",
       "    <tr>\n",
       "      <th>c</th>\n",
       "      <td>44</td>\n",
       "      <td>512</td>\n",
       "    </tr>\n",
       "    <tr>\n",
       "      <th>e</th>\n",
       "      <td>256</td>\n",
       "      <td>864</td>\n",
       "    </tr>\n",
       "    <tr>\n",
       "      <th>r</th>\n",
       "      <td>0</td>\n",
       "      <td>192</td>\n",
       "    </tr>\n",
       "  </tbody>\n",
       "</table>\n",
       "</div>"
      ],
      "text/plain": [
       "edible       0.0   1.0\n",
       "stalk-root            \n",
       "?           1760   720\n",
       "b           1856  1920\n",
       "c             44   512\n",
       "e            256   864\n",
       "r              0   192"
      ]
     },
     "execution_count": 15,
     "metadata": {},
     "output_type": "execute_result"
    }
   ],
   "source": [
    "pd.crosstab(mushrooms['stalk-root'], mushrooms['edible'])"
   ]
  },
  {
   "cell_type": "code",
   "execution_count": 16,
   "metadata": {},
   "outputs": [
    {
     "data": {
      "image/png": "[encoded data removed]",
      "text/plain": [
       "<Figure size 1080x360 with 1 Axes>"
      ]
     },
     "metadata": {
      "needs_background": "light"
     },
     "output_type": "display_data"
    }
   ],
   "source": [
    "plt.figure(figsize=(15, 5))\n",
    "sns.countplot(x='stalk-root', data=mushrooms, hue='edible');\n",
    "plt.title('Edibility based on stem base', fontsize=20);"
   ]
  },
  {
   "cell_type": "markdown",
   "metadata": {},
   "source": [
    "## Red color\n",
    "<img src=\"data:image/jpeg;base64,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\" align = \"left\" width=\"400px\">\n"
   ]
  },
  {
   "cell_type": "code",
   "execution_count": 17,
   "metadata": {},
   "outputs": [
    {
     "data": {
      "image/png": "[encoded data removed]",
      "text/plain": [
       "<Figure size 1080x360 with 1 Axes>"
      ]
     },
     "metadata": {
      "needs_background": "light"
     },
     "output_type": "display_data"
    }
   ],
   "source": [
    "plt.figure(figsize=(15, 5))\n",
    "sns.countplot(x='cap-color', data=mushrooms, hue='edible');\n",
    "plt.legend(loc='upper right');\n",
    "plt.title('Edibility based on cap color', fontsize=20);"
   ]
  },
  {
   "cell_type": "code",
   "execution_count": 18,
   "metadata": {},
   "outputs": [
    {
     "data": {
      "image/png": "[encoded data removed]",
      "text/plain": [
       "<Figure size 1224x720 with 2 Axes>"
      ]
     },
     "metadata": {
      "needs_background": "light"
     },
     "output_type": "display_data"
    }
   ],
   "source": [
    "plt.figure(figsize=(17, 10))\n",
    "plt.subplot(2, 1, 1)\n",
    "sns.countplot(x='stalk-color-below-ring', data=mushrooms, hue='edible');\n",
    "plt.title('Edibility based on stalk color', fontsize=20);\n",
    "plt.subplot(2, 1, 2)\n",
    "sns.countplot(x='stalk-color-above-ring', data=mushrooms, hue='edible');"
   ]
  },
  {
   "cell_type": "code",
   "execution_count": 19,
   "metadata": {},
   "outputs": [
    {
     "data": {
      "image/png": "[encoded data removed]",
      "text/plain": [
       "<Figure size 432x288 with 1 Axes>"
      ]
     },
     "metadata": {
      "needs_background": "light"
     },
     "output_type": "display_data"
    }
   ],
   "source": [
    "red_mushrooms = mushrooms[(mushrooms['stalk-color-above-ring'] == 'red') | (mushrooms['stalk-color-below-ring'] == 'red') | (mushrooms['cap-color'] == 'red')]\n",
    "sns.countplot(x='edible', data=red_mushrooms);\n",
    "plt.title('Red mushrooms edibility', fontsize=20);"
   ]
  },
  {
   "cell_type": "markdown",
   "metadata": {},
   "source": [
    "## Smell"
   ]
  },
  {
   "cell_type": "code",
   "execution_count": 20,
   "metadata": {},
   "outputs": [
    {
     "data": {
      "image/png": "[encoded data removed]",
      "text/plain": [
       "<Figure size 1080x360 with 1 Axes>"
      ]
     },
     "metadata": {
      "needs_background": "light"
     },
     "output_type": "display_data"
    }
   ],
   "source": [
    "plt.figure(figsize=(15, 5));\n",
    "sns.countplot(x='odor', data=mushrooms, hue='edible');\n",
    "plt.title('Does smell indicate edibility?', fontsize=20);"
   ]
  },
  {
   "cell_type": "code",
   "execution_count": 21,
   "metadata": {},
   "outputs": [
    {
     "name": "stdout",
     "output_type": "stream",
     "text": [
      "3796 poisonous mushrooms can be excluded based on smell\n"
     ]
    }
   ],
   "source": [
    "bad_smell = (mushrooms['odor'] != 'almond') & (mushrooms['odor'] != 'anise') & (mushrooms['odor'] != 'none')\n",
    "bad_smell_mushrooms = mushrooms[bad_smell]\n",
    "print('{} poisonous mushrooms can be excluded based on smell'.format(len(bad_smell_mushrooms)))"
   ]
  },
  {
   "cell_type": "markdown",
   "metadata": {},
   "source": [
    "## Spore print color\n",
    "<img src=\"https://3.bp.blogspot.com/-i8hYDRyxPfo/UJweQWQD6qI/AAAAAAAAAIc/anGRwJSMAcs/s1600/spore-prints.jpg\" align = \"left\" width=\"400px\">\n"
   ]
  },
  {
   "cell_type": "code",
   "execution_count": 22,
   "metadata": {},
   "outputs": [
    {
     "data": {
      "image/png": "[encoded data removed]",
      "text/plain": [
       "<Figure size 1080x360 with 1 Axes>"
      ]
     },
     "metadata": {
      "needs_background": "light"
     },
     "output_type": "display_data"
    }
   ],
   "source": [
    "plt.figure(figsize=(15, 5))\n",
    "sns.countplot(x='spore-print-color', data=mushrooms, hue='edible');\n",
    "plt.title('Edibility based on spore print color', fontsize=20);"
   ]
  },
  {
   "cell_type": "markdown",
   "metadata": {},
   "source": [
    "## Population"
   ]
  },
  {
   "cell_type": "code",
   "execution_count": 23,
   "metadata": {},
   "outputs": [
    {
     "data": {
      "image/png": "[encoded data removed]",
      "text/plain": [
       "<Figure size 1080x360 with 1 Axes>"
      ]
     },
     "metadata": {
      "needs_background": "light"
     },
     "output_type": "display_data"
    }
   ],
   "source": [
    "plt.figure(figsize=(15, 5))\n",
    "sns.countplot(x='population', data=mushrooms, hue='edible');\n",
    "plt.title('Edibility based on population', fontsize=20);"
   ]
  },
  {
   "cell_type": "markdown",
   "metadata": {},
   "source": [
    "## Habitat"
   ]
  },
  {
   "cell_type": "code",
   "execution_count": 24,
   "metadata": {},
   "outputs": [
    {
     "data": {
      "image/png": "[encoded data removed]",
      "text/plain": [
       "<Figure size 1080x360 with 1 Axes>"
      ]
     },
     "metadata": {
      "needs_background": "light"
     },
     "output_type": "display_data"
    }
   ],
   "source": [
    "plt.figure(figsize=(15, 5))\n",
    "sns.countplot(x='habitat', data=mushrooms, hue='edible');\n",
    "plt.title('Edibility based on population', fontsize=20);"
   ]
  },
  {
   "cell_type": "markdown",
   "metadata": {},
   "source": [
    "## Baseline\n",
    "In order to establish a baseline for the model I'm going to label mushrooms as poisonous if at least one of the following features is present:\n",
    "* chocolate/white spore print color\n",
    "* smell other than anise, almond or none\n",
    "* puff/brown stalk color\n",
    "* buff gill color\n",
    "\n",
    "Based on the predicted data I'm going to create a confusion matrix and calculate accuracy."
   ]
  },
  {
   "cell_type": "code",
   "execution_count": 25,
   "metadata": {},
   "outputs": [
    {
     "name": "stdout",
     "output_type": "stream",
     "text": [
      "      1    0\n",
      "1  3584   72\n",
      "0  3844  624\n",
      "Accuracy = 51.8%\n",
      "Recall = 48.2%\n",
      "Precision = 98.0%\n"
     ]
    }
   ],
   "source": [
    "bad_spore_print = (mushrooms['spore-print-color'] == 'white') | (mushrooms['spore-print-color'] == 'chocolate')\n",
    "bad_stalk_color = ((mushrooms['stalk-color-above-ring'] == 'puff') | (mushrooms['stalk-color-below-ring'] == 'puff')) | ((mushrooms['stalk-color-above-ring'] == 'brown') | (mushrooms['stalk-color-below-ring'] == 'brown'))\n",
    "bad_gill_color = (mushrooms['gill-color'] == 'buff')\n",
    "\n",
    "mushrooms_negatives = mushrooms[bad_spore_print | bad_smell | bad_gill_color | bad_stalk_color]\n",
    "mushrooms_positives = pd.concat([mushrooms, mushrooms_negatives]).drop_duplicates(keep=False)\n",
    "\n",
    "total = len(mushrooms)\n",
    "\n",
    "false_negatives = len(mushrooms_negatives[mushrooms_negatives['edible'] == 0.])\n",
    "true_negatives = len(mushrooms_negatives[mushrooms_negatives['edible'] == 1.])\n",
    "\n",
    "false_positives = len(mushrooms_positives[mushrooms_positives['edible'] == 0.])\n",
    "true_positives = len(mushrooms_positives[mushrooms_positives['edible'] == 1.])\n",
    "\n",
    "confusion_matrix = pd.DataFrame({'1': [true_positives, false_negatives], '0': [false_positives, true_negatives]}, index=['1', '0'])\n",
    "\n",
    "print(confusion_matrix)\n",
    "print('Accuracy = {:.1f}%'.format(100 * (true_positives + true_negatives) / total))\n",
    "print('Recall = {:.1f}%'.format(100 * true_positives / (true_positives + false_negatives)))\n",
    "print('Precision = {:.1f}%'.format(100 * true_positives / (true_positives + false_positives)))"
   ]
  },
  {
   "cell_type": "markdown",
   "metadata": {},
   "source": [
    "<a id=\"section-three\"></a>\n",
    "# 3. Preprocessing"
   ]
  },
  {
   "cell_type": "code",
   "execution_count": 26,
   "metadata": {},
   "outputs": [],
   "source": [
    "from sklearn.model_selection import train_test_split"
   ]
  },
  {
   "cell_type": "code",
   "execution_count": 27,
   "metadata": {},
   "outputs": [
    {
     "data": {
      "text/html": [
       "<div>\n",
       "<style scoped>\n",
       "    .dataframe tbody tr th:only-of-type {\n",
       "        vertical-align: middle;\n",
       "    }\n",
       "\n",
       "    .dataframe tbody tr th {\n",
       "        vertical-align: top;\n",
       "    }\n",
       "\n",
       "    .dataframe thead th {\n",
       "        text-align: right;\n",
       "    }\n",
       "</style>\n",
       "<table border=\"1\" class=\"dataframe\">\n",
       "  <thead>\n",
       "    <tr style=\"text-align: right;\">\n",
       "      <th></th>\n",
       "      <th>edible</th>\n",
       "      <th>cap-shape_b</th>\n",
       "      <th>cap-shape_c</th>\n",
       "      <th>cap-shape_f</th>\n",
       "      <th>cap-shape_k</th>\n",
       "      <th>cap-shape_s</th>\n",
       "      <th>cap-shape_x</th>\n",
       "      <th>cap-surface_f</th>\n",
       "      <th>cap-surface_g</th>\n",
       "      <th>cap-surface_s</th>\n",
       "      <th>...</th>\n",
       "      <th>population_scattered</th>\n",
       "      <th>population_several</th>\n",
       "      <th>population_solitary</th>\n",
       "      <th>habitat_grasses</th>\n",
       "      <th>habitat_leaves</th>\n",
       "      <th>habitat_meadows</th>\n",
       "      <th>habitat_paths</th>\n",
       "      <th>habitat_urban</th>\n",
       "      <th>habitat_waste</th>\n",
       "      <th>habitat_woods</th>\n",
       "    </tr>\n",
       "  </thead>\n",
       "  <tbody>\n",
       "    <tr>\n",
       "      <th>0</th>\n",
       "      <td>0.0</td>\n",
       "      <td>0</td>\n",
       "      <td>0</td>\n",
       "      <td>0</td>\n",
       "      <td>0</td>\n",
       "      <td>0</td>\n",
       "      <td>1</td>\n",
       "      <td>0</td>\n",
       "      <td>0</td>\n",
       "      <td>1</td>\n",
       "      <td>...</td>\n",
       "      <td>1</td>\n",
       "      <td>0</td>\n",
       "      <td>0</td>\n",
       "      <td>0</td>\n",
       "      <td>0</td>\n",
       "      <td>0</td>\n",
       "      <td>0</td>\n",
       "      <td>1</td>\n",
       "      <td>0</td>\n",
       "      <td>0</td>\n",
       "    </tr>\n",
       "    <tr>\n",
       "      <th>1</th>\n",
       "      <td>1.0</td>\n",
       "      <td>0</td>\n",
       "      <td>0</td>\n",
       "      <td>0</td>\n",
       "      <td>0</td>\n",
       "      <td>0</td>\n",
       "      <td>1</td>\n",
       "      <td>0</td>\n",
       "      <td>0</td>\n",
       "      <td>1</td>\n",
       "      <td>...</td>\n",
       "      <td>0</td>\n",
       "      <td>0</td>\n",
       "      <td>0</td>\n",
       "      <td>1</td>\n",
       "      <td>0</td>\n",
       "      <td>0</td>\n",
       "      <td>0</td>\n",
       "      <td>0</td>\n",
       "      <td>0</td>\n",
       "      <td>0</td>\n",
       "    </tr>\n",
       "    <tr>\n",
       "      <th>2</th>\n",
       "      <td>1.0</td>\n",
       "      <td>1</td>\n",
       "      <td>0</td>\n",
       "      <td>0</td>\n",
       "      <td>0</td>\n",
       "      <td>0</td>\n",
       "      <td>0</td>\n",
       "      <td>0</td>\n",
       "      <td>0</td>\n",
       "      <td>1</td>\n",
       "      <td>...</td>\n",
       "      <td>0</td>\n",
       "      <td>0</td>\n",
       "      <td>0</td>\n",
       "      <td>0</td>\n",
       "      <td>0</td>\n",
       "      <td>1</td>\n",
       "      <td>0</td>\n",
       "      <td>0</td>\n",
       "      <td>0</td>\n",
       "      <td>0</td>\n",
       "    </tr>\n",
       "    <tr>\n",
       "      <th>3</th>\n",
       "      <td>0.0</td>\n",
       "      <td>0</td>\n",
       "      <td>0</td>\n",
       "      <td>0</td>\n",
       "      <td>0</td>\n",
       "      <td>0</td>\n",
       "      <td>1</td>\n",
       "      <td>0</td>\n",
       "      <td>0</td>\n",
       "      <td>0</td>\n",
       "      <td>...</td>\n",
       "      <td>1</td>\n",
       "      <td>0</td>\n",
       "      <td>0</td>\n",
       "      <td>0</td>\n",
       "      <td>0</td>\n",
       "      <td>0</td>\n",
       "      <td>0</td>\n",
       "      <td>1</td>\n",
       "      <td>0</td>\n",
       "      <td>0</td>\n",
       "    </tr>\n",
       "    <tr>\n",
       "      <th>4</th>\n",
       "      <td>1.0</td>\n",
       "      <td>0</td>\n",
       "      <td>0</td>\n",
       "      <td>0</td>\n",
       "      <td>0</td>\n",
       "      <td>0</td>\n",
       "      <td>1</td>\n",
       "      <td>0</td>\n",
       "      <td>0</td>\n",
       "      <td>1</td>\n",
       "      <td>...</td>\n",
       "      <td>0</td>\n",
       "      <td>0</td>\n",
       "      <td>0</td>\n",
       "      <td>1</td>\n",
       "      <td>0</td>\n",
       "      <td>0</td>\n",
       "      <td>0</td>\n",
       "      <td>0</td>\n",
       "      <td>0</td>\n",
       "      <td>0</td>\n",
       "    </tr>\n",
       "  </tbody>\n",
       "</table>\n",
       "<p>5 rows × 118 columns</p>\n",
       "</div>"
      ],
      "text/plain": [
       "   edible  cap-shape_b  cap-shape_c  cap-shape_f  cap-shape_k  cap-shape_s  \\\n",
       "0     0.0            0            0            0            0            0   \n",
       "1     1.0            0            0            0            0            0   \n",
       "2     1.0            1            0            0            0            0   \n",
       "3     0.0            0            0            0            0            0   \n",
       "4     1.0            0            0            0            0            0   \n",
       "\n",
       "   cap-shape_x  cap-surface_f  cap-surface_g  cap-surface_s  ...  \\\n",
       "0            1              0              0              1  ...   \n",
       "1            1              0              0              1  ...   \n",
       "2            0              0              0              1  ...   \n",
       "3            1              0              0              0  ...   \n",
       "4            1              0              0              1  ...   \n",
       "\n",
       "   population_scattered  population_several  population_solitary  \\\n",
       "0                     1                   0                    0   \n",
       "1                     0                   0                    0   \n",
       "2                     0                   0                    0   \n",
       "3                     1                   0                    0   \n",
       "4                     0                   0                    0   \n",
       "\n",
       "   habitat_grasses  habitat_leaves  habitat_meadows  habitat_paths  \\\n",
       "0                0               0                0              0   \n",
       "1                1               0                0              0   \n",
       "2                0               0                1              0   \n",
       "3                0               0                0              0   \n",
       "4                1               0                0              0   \n",
       "\n",
       "   habitat_urban  habitat_waste  habitat_woods  \n",
       "0              1              0              0  \n",
       "1              0              0              0  \n",
       "2              0              0              0  \n",
       "3              1              0              0  \n",
       "4              0              0              0  \n",
       "\n",
       "[5 rows x 118 columns]"
      ]
     },
     "execution_count": 27,
     "metadata": {},
     "output_type": "execute_result"
    }
   ],
   "source": [
    "mushrooms_preprocessed = pd.get_dummies(mushrooms)\n",
    "mushrooms_preprocessed.head()"
   ]
  },
  {
   "cell_type": "code",
   "execution_count": 28,
   "metadata": {},
   "outputs": [],
   "source": [
    "X = mushrooms_preprocessed.drop(['edible'], axis=1).values.astype(np.float64, copy=False)\n",
    "y = mushrooms_preprocessed['edible'].values\n",
    "\n",
    "n = len(X)\n",
    "\n",
    "X_train, y_train = X[:int(0.6 * n)], y[:int(0.6 * n)]\n",
    "X_val, y_val = X[int(0.6 * n) + 1: int(0.8 * n)], y[int(0.6 * n) + 1: int(0.8 * n)]\n",
    "X_test, y_test = X[int(0.8 * n) + 1:], y[int(0.8 * n) + 1:]"
   ]
  },
  {
   "cell_type": "markdown",
   "metadata": {},
   "source": [
    "<a id=\"section-four\"></a>\n",
    "# 4. Building a model"
   ]
  },
  {
   "cell_type": "code",
   "execution_count": 29,
   "metadata": {},
   "outputs": [],
   "source": [
    "from keras import models\n",
    "from keras import layers"
   ]
  },
  {
   "cell_type": "code",
   "execution_count": 30,
   "metadata": {},
   "outputs": [],
   "source": [
    "model = models.Sequential()\n",
    "model.add(layers.Dense(16, activation='relu', input_shape=(X_train.shape[1],)))\n",
    "model.add(layers.Dropout(0.5))\n",
    "model.add(layers.Dense(16, activation='relu'))\n",
    "model.add(layers.Dropout(0.5))\n",
    "model.add(layers.Dense(16, activation='relu'))\n",
    "model.add(layers.Dense(1, activation='sigmoid'))\n",
    "\n",
    "model.compile(optimizer='rmsprop', loss='binary_crossentropy', metrics=['accuracy'])\n",
    "\n",
    "history = model.fit(X_train,\n",
    "                   y_train,\n",
    "                   epochs=20,\n",
    "                   batch_size=32,\n",
    "                   validation_data=(X_val, y_val),\n",
    "                   verbose=0)"
   ]
  },
  {
   "cell_type": "markdown",
   "metadata": {},
   "source": [
    "<a id=\"section-five\"></a>\n",
    "# 5. Validation"
   ]
  },
  {
   "cell_type": "code",
   "execution_count": 31,
   "metadata": {},
   "outputs": [],
   "source": [
    "def plot_loss(epochs, loss_values, val_loss_values):\n",
    "  plt.clf()\n",
    "  plt.plot(epochs, loss_values, 'bo', label='Training loss')\n",
    "  plt.plot(epochs, val_loss_values, 'b', label='Validation loss')\n",
    "  plt.title('Training and validation loss')\n",
    "  plt.xlabel('Epochs')\n",
    "  plt.ylabel('Loss')\n",
    "  plt.legend()\n",
    "\n",
    "  plt.show()\n",
    "\n",
    "def plot_accuracy(epochs, acc_values, val_acc_values):\n",
    "  plt.clf()\n",
    "  plt.plot(epochs, acc_values, 'bo', label='Training acc')\n",
    "  plt.plot(epochs, val_acc_values, 'b', label='Validation accuracy')\n",
    "  plt.title('Training and validation accuracy')\n",
    "  plt.xlabel('Epochs')\n",
    "  plt.ylabel('Accuracy')\n",
    "  plt.legend()\n",
    "\n",
    "  plt.show()"
   ]
  },
  {
   "cell_type": "code",
   "execution_count": 32,
   "metadata": {},
   "outputs": [
    {
     "data": {
      "image/png": "[encoded data removed]",
      "text/plain": [
       "<Figure size 432x288 with 1 Axes>"
      ]
     },
     "metadata": {
      "needs_background": "light"
     },
     "output_type": "display_data"
    }
   ],
   "source": [
    "loss = history.history['loss']\n",
    "val_loss = history.history['val_loss']\n",
    "\n",
    "epochs = range(1, len(loss) + 1)\n",
    "\n",
    "plot_loss(epochs, loss, val_loss)"
   ]
  },
  {
   "cell_type": "code",
   "execution_count": 33,
   "metadata": {},
   "outputs": [
    {
     "data": {
      "image/png": "[encoded data removed]",
      "text/plain": [
       "<Figure size 432x288 with 1 Axes>"
      ]
     },
     "metadata": {
      "needs_background": "light"
     },
     "output_type": "display_data"
    }
   ],
   "source": [
    "acc = history.history['accuracy']\n",
    "val_acc = history.history['val_accuracy']\n",
    "\n",
    "plot_accuracy(epochs, acc, val_acc)"
   ]
  },
  {
   "cell_type": "markdown",
   "metadata": {},
   "source": [
    "<a id=\"section-six\"></a>\n",
    "# 6. Final result"
   ]
  },
  {
   "cell_type": "code",
   "execution_count": 34,
   "metadata": {
    "_cell_guid": "79c7e3d0-c299-4dcb-8224-4455121ee9b0",
    "_uuid": "d629ff2d2480ee46fbb7e2d37f6b5fab8052498a"
   },
   "outputs": [
    {
     "name": "stdout",
     "output_type": "stream",
     "text": [
      "51/51 [==============================] - 0s 2ms/step - loss: 1.6648 - accuracy: 0.8621\n"
     ]
    }
   ],
   "source": [
    "test_loss, test_accuracy = model.evaluate(X_test, y_test)"
   ]
  },
  {
   "cell_type": "code",
   "execution_count": 35,
   "metadata": {},
   "outputs": [
    {
     "name": "stdout",
     "output_type": "stream",
     "text": [
      "254/254 [==============================] - 0s 1ms/step - loss: 0.3788 - accuracy: 0.9661\n"
     ]
    }
   ],
   "source": [
    "final_loss, final_accuracy = model.evaluate(X, y)"
   ]
  }
 ],
 "metadata": {
  "kernelspec": {
   "display_name": "Python 3",
   "language": "python",
   "name": "python3"
  },
  "language_info": {
   "codemirror_mode": {
    "name": "ipython",
    "version": 3
   },
   "file_extension": ".py",
   "mimetype": "text/x-python",
   "name": "python",
   "nbconvert_exporter": "python",
   "pygments_lexer": "ipython3",
   "version": "3.8.7"
  }
 },
 "nbformat": 4,
 "nbformat_minor": 4
}
